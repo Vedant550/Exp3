{
  "nbformat": 4,
  "nbformat_minor": 0,
  "metadata": {
    "colab": {
      "provenance": []
    },
    "kernelspec": {
      "name": "python3",
      "display_name": "Python 3"
    },
    "language_info": {
      "name": "python"
    }
  },
  "cells": [
    {
      "cell_type": "code",
      "execution_count": null,
      "metadata": {
        "id": "zo3jo6OBEPuo"
      },
      "outputs": [],
      "source": [
        "import pandas as pd\n",
        "import numpy as np\n",
        "import matplotlib.pyplot as plt\n",
        "import seaborn as sns\n",
        "%matplotlib inline"
      ]
    },
    {
      "cell_type": "code",
      "source": [
        "#Ignore warnings\n",
        "import warnings\n",
        "warnings.filterwarnings('ignore')"
      ],
      "metadata": {
        "id": "MPAmItL9E2IL"
      },
      "execution_count": null,
      "outputs": []
    },
    {
      "cell_type": "code",
      "source": [
        "data = '2020-2021.csv'\n",
        "df = pd.read_csv(data)\n",
        "df"
      ],
      "metadata": {
        "colab": {
          "base_uri": "https://localhost:8080/",
          "height": 592
        },
        "id": "1NvUONXqE28R",
        "outputId": "5b26fb84-dc15-486c-a621-d7d159ecd004"
      },
      "execution_count": null,
      "outputs": [
        {
          "output_type": "execute_result",
          "data": {
            "text/plain": [
              "    Div        Date   Time          HomeTeam        AwayTeam  FTHG  FTAG FTR  \\\n",
              "0    E0  12/09/2020  12:30            Fulham         Arsenal     0     3   A   \n",
              "1    E0  12/09/2020  15:00    Crystal Palace     Southampton     1     0   H   \n",
              "2    E0  12/09/2020  17:30         Liverpool           Leeds     4     3   H   \n",
              "3    E0  12/09/2020  20:00          West Ham       Newcastle     0     2   A   \n",
              "4    E0  13/09/2020  14:00         West Brom       Leicester     0     3   A   \n",
              "..   ..         ...    ...               ...             ...   ...   ...  ..   \n",
              "375  E0  23/05/2021  16:00         Liverpool  Crystal Palace     2     0   H   \n",
              "376  E0  23/05/2021  16:00          Man City         Everton     5     0   H   \n",
              "377  E0  23/05/2021  16:00  Sheffield United         Burnley     1     0   H   \n",
              "378  E0  23/05/2021  16:00          West Ham     Southampton     3     0   H   \n",
              "379  E0  23/05/2021  16:00            Wolves      Man United     1     2   A   \n",
              "\n",
              "     HTHG  HTAG  ... AvgC<2.5  AHCh  B365CAHH  B365CAHA  PCAHH  PCAHA  \\\n",
              "0       0     1  ...     1.84  0.75      2.01      1.89   2.02   1.91   \n",
              "1       1     0  ...     1.70  0.25      1.78      2.13   1.79   2.17   \n",
              "2       3     2  ...     2.62 -1.50      1.85      2.05   1.85   2.08   \n",
              "3       0     0  ...     1.92 -0.50      2.03      1.87   2.04   1.88   \n",
              "4       0     0  ...     1.73  0.25      1.92      1.98   1.93   1.99   \n",
              "..    ...   ...  ...      ...   ...       ...       ...    ...    ...   \n",
              "375     1     0  ...     3.49 -2.25      1.86      2.04   1.88   2.03   \n",
              "376     2     0  ...     2.77 -1.75      2.01      1.89   1.99   1.89   \n",
              "377     1     0  ...     2.05  0.00      2.04      1.86   2.05   1.86   \n",
              "378     2     0  ...     2.14 -0.75      2.00      1.90   2.02   1.91   \n",
              "379     1     2  ...     1.62 -0.25      2.04      1.86   2.10   1.84   \n",
              "\n",
              "     MaxCAHH  MaxCAHA  AvgCAHH  AvgCAHA  \n",
              "0       2.13     1.92     2.02     1.87  \n",
              "1       1.85     2.18     1.79     2.12  \n",
              "2       1.90     2.16     1.84     2.04  \n",
              "3       2.09     1.91     2.02     1.86  \n",
              "4       1.95     2.01     1.91     1.97  \n",
              "..       ...      ...      ...      ...  \n",
              "375     1.98     2.14     1.88     2.00  \n",
              "376     2.20     2.00     2.03     1.85  \n",
              "377     2.17     1.90     2.03     1.84  \n",
              "378     2.06     2.01     1.99     1.89  \n",
              "379     2.10     1.94     2.00     1.88  \n",
              "\n",
              "[380 rows x 106 columns]"
            ],
            "text/html": [
              "\n",
              "  <div id=\"df-5518a7a1-57d1-4cd8-aa3f-9c54efca7cbe\">\n",
              "    <div class=\"colab-df-container\">\n",
              "      <div>\n",
              "<style scoped>\n",
              "    .dataframe tbody tr th:only-of-type {\n",
              "        vertical-align: middle;\n",
              "    }\n",
              "\n",
              "    .dataframe tbody tr th {\n",
              "        vertical-align: top;\n",
              "    }\n",
              "\n",
              "    .dataframe thead th {\n",
              "        text-align: right;\n",
              "    }\n",
              "</style>\n",
              "<table border=\"1\" class=\"dataframe\">\n",
              "  <thead>\n",
              "    <tr style=\"text-align: right;\">\n",
              "      <th></th>\n",
              "      <th>Div</th>\n",
              "      <th>Date</th>\n",
              "      <th>Time</th>\n",
              "      <th>HomeTeam</th>\n",
              "      <th>AwayTeam</th>\n",
              "      <th>FTHG</th>\n",
              "      <th>FTAG</th>\n",
              "      <th>FTR</th>\n",
              "      <th>HTHG</th>\n",
              "      <th>HTAG</th>\n",
              "      <th>...</th>\n",
              "      <th>AvgC&lt;2.5</th>\n",
              "      <th>AHCh</th>\n",
              "      <th>B365CAHH</th>\n",
              "      <th>B365CAHA</th>\n",
              "      <th>PCAHH</th>\n",
              "      <th>PCAHA</th>\n",
              "      <th>MaxCAHH</th>\n",
              "      <th>MaxCAHA</th>\n",
              "      <th>AvgCAHH</th>\n",
              "      <th>AvgCAHA</th>\n",
              "    </tr>\n",
              "  </thead>\n",
              "  <tbody>\n",
              "    <tr>\n",
              "      <th>0</th>\n",
              "      <td>E0</td>\n",
              "      <td>12/09/2020</td>\n",
              "      <td>12:30</td>\n",
              "      <td>Fulham</td>\n",
              "      <td>Arsenal</td>\n",
              "      <td>0</td>\n",
              "      <td>3</td>\n",
              "      <td>A</td>\n",
              "      <td>0</td>\n",
              "      <td>1</td>\n",
              "      <td>...</td>\n",
              "      <td>1.84</td>\n",
              "      <td>0.75</td>\n",
              "      <td>2.01</td>\n",
              "      <td>1.89</td>\n",
              "      <td>2.02</td>\n",
              "      <td>1.91</td>\n",
              "      <td>2.13</td>\n",
              "      <td>1.92</td>\n",
              "      <td>2.02</td>\n",
              "      <td>1.87</td>\n",
              "    </tr>\n",
              "    <tr>\n",
              "      <th>1</th>\n",
              "      <td>E0</td>\n",
              "      <td>12/09/2020</td>\n",
              "      <td>15:00</td>\n",
              "      <td>Crystal Palace</td>\n",
              "      <td>Southampton</td>\n",
              "      <td>1</td>\n",
              "      <td>0</td>\n",
              "      <td>H</td>\n",
              "      <td>1</td>\n",
              "      <td>0</td>\n",
              "      <td>...</td>\n",
              "      <td>1.70</td>\n",
              "      <td>0.25</td>\n",
              "      <td>1.78</td>\n",
              "      <td>2.13</td>\n",
              "      <td>1.79</td>\n",
              "      <td>2.17</td>\n",
              "      <td>1.85</td>\n",
              "      <td>2.18</td>\n",
              "      <td>1.79</td>\n",
              "      <td>2.12</td>\n",
              "    </tr>\n",
              "    <tr>\n",
              "      <th>2</th>\n",
              "      <td>E0</td>\n",
              "      <td>12/09/2020</td>\n",
              "      <td>17:30</td>\n",
              "      <td>Liverpool</td>\n",
              "      <td>Leeds</td>\n",
              "      <td>4</td>\n",
              "      <td>3</td>\n",
              "      <td>H</td>\n",
              "      <td>3</td>\n",
              "      <td>2</td>\n",
              "      <td>...</td>\n",
              "      <td>2.62</td>\n",
              "      <td>-1.50</td>\n",
              "      <td>1.85</td>\n",
              "      <td>2.05</td>\n",
              "      <td>1.85</td>\n",
              "      <td>2.08</td>\n",
              "      <td>1.90</td>\n",
              "      <td>2.16</td>\n",
              "      <td>1.84</td>\n",
              "      <td>2.04</td>\n",
              "    </tr>\n",
              "    <tr>\n",
              "      <th>3</th>\n",
              "      <td>E0</td>\n",
              "      <td>12/09/2020</td>\n",
              "      <td>20:00</td>\n",
              "      <td>West Ham</td>\n",
              "      <td>Newcastle</td>\n",
              "      <td>0</td>\n",
              "      <td>2</td>\n",
              "      <td>A</td>\n",
              "      <td>0</td>\n",
              "      <td>0</td>\n",
              "      <td>...</td>\n",
              "      <td>1.92</td>\n",
              "      <td>-0.50</td>\n",
              "      <td>2.03</td>\n",
              "      <td>1.87</td>\n",
              "      <td>2.04</td>\n",
              "      <td>1.88</td>\n",
              "      <td>2.09</td>\n",
              "      <td>1.91</td>\n",
              "      <td>2.02</td>\n",
              "      <td>1.86</td>\n",
              "    </tr>\n",
              "    <tr>\n",
              "      <th>4</th>\n",
              "      <td>E0</td>\n",
              "      <td>13/09/2020</td>\n",
              "      <td>14:00</td>\n",
              "      <td>West Brom</td>\n",
              "      <td>Leicester</td>\n",
              "      <td>0</td>\n",
              "      <td>3</td>\n",
              "      <td>A</td>\n",
              "      <td>0</td>\n",
              "      <td>0</td>\n",
              "      <td>...</td>\n",
              "      <td>1.73</td>\n",
              "      <td>0.25</td>\n",
              "      <td>1.92</td>\n",
              "      <td>1.98</td>\n",
              "      <td>1.93</td>\n",
              "      <td>1.99</td>\n",
              "      <td>1.95</td>\n",
              "      <td>2.01</td>\n",
              "      <td>1.91</td>\n",
              "      <td>1.97</td>\n",
              "    </tr>\n",
              "    <tr>\n",
              "      <th>...</th>\n",
              "      <td>...</td>\n",
              "      <td>...</td>\n",
              "      <td>...</td>\n",
              "      <td>...</td>\n",
              "      <td>...</td>\n",
              "      <td>...</td>\n",
              "      <td>...</td>\n",
              "      <td>...</td>\n",
              "      <td>...</td>\n",
              "      <td>...</td>\n",
              "      <td>...</td>\n",
              "      <td>...</td>\n",
              "      <td>...</td>\n",
              "      <td>...</td>\n",
              "      <td>...</td>\n",
              "      <td>...</td>\n",
              "      <td>...</td>\n",
              "      <td>...</td>\n",
              "      <td>...</td>\n",
              "      <td>...</td>\n",
              "      <td>...</td>\n",
              "    </tr>\n",
              "    <tr>\n",
              "      <th>375</th>\n",
              "      <td>E0</td>\n",
              "      <td>23/05/2021</td>\n",
              "      <td>16:00</td>\n",
              "      <td>Liverpool</td>\n",
              "      <td>Crystal Palace</td>\n",
              "      <td>2</td>\n",
              "      <td>0</td>\n",
              "      <td>H</td>\n",
              "      <td>1</td>\n",
              "      <td>0</td>\n",
              "      <td>...</td>\n",
              "      <td>3.49</td>\n",
              "      <td>-2.25</td>\n",
              "      <td>1.86</td>\n",
              "      <td>2.04</td>\n",
              "      <td>1.88</td>\n",
              "      <td>2.03</td>\n",
              "      <td>1.98</td>\n",
              "      <td>2.14</td>\n",
              "      <td>1.88</td>\n",
              "      <td>2.00</td>\n",
              "    </tr>\n",
              "    <tr>\n",
              "      <th>376</th>\n",
              "      <td>E0</td>\n",
              "      <td>23/05/2021</td>\n",
              "      <td>16:00</td>\n",
              "      <td>Man City</td>\n",
              "      <td>Everton</td>\n",
              "      <td>5</td>\n",
              "      <td>0</td>\n",
              "      <td>H</td>\n",
              "      <td>2</td>\n",
              "      <td>0</td>\n",
              "      <td>...</td>\n",
              "      <td>2.77</td>\n",
              "      <td>-1.75</td>\n",
              "      <td>2.01</td>\n",
              "      <td>1.89</td>\n",
              "      <td>1.99</td>\n",
              "      <td>1.89</td>\n",
              "      <td>2.20</td>\n",
              "      <td>2.00</td>\n",
              "      <td>2.03</td>\n",
              "      <td>1.85</td>\n",
              "    </tr>\n",
              "    <tr>\n",
              "      <th>377</th>\n",
              "      <td>E0</td>\n",
              "      <td>23/05/2021</td>\n",
              "      <td>16:00</td>\n",
              "      <td>Sheffield United</td>\n",
              "      <td>Burnley</td>\n",
              "      <td>1</td>\n",
              "      <td>0</td>\n",
              "      <td>H</td>\n",
              "      <td>1</td>\n",
              "      <td>0</td>\n",
              "      <td>...</td>\n",
              "      <td>2.05</td>\n",
              "      <td>0.00</td>\n",
              "      <td>2.04</td>\n",
              "      <td>1.86</td>\n",
              "      <td>2.05</td>\n",
              "      <td>1.86</td>\n",
              "      <td>2.17</td>\n",
              "      <td>1.90</td>\n",
              "      <td>2.03</td>\n",
              "      <td>1.84</td>\n",
              "    </tr>\n",
              "    <tr>\n",
              "      <th>378</th>\n",
              "      <td>E0</td>\n",
              "      <td>23/05/2021</td>\n",
              "      <td>16:00</td>\n",
              "      <td>West Ham</td>\n",
              "      <td>Southampton</td>\n",
              "      <td>3</td>\n",
              "      <td>0</td>\n",
              "      <td>H</td>\n",
              "      <td>2</td>\n",
              "      <td>0</td>\n",
              "      <td>...</td>\n",
              "      <td>2.14</td>\n",
              "      <td>-0.75</td>\n",
              "      <td>2.00</td>\n",
              "      <td>1.90</td>\n",
              "      <td>2.02</td>\n",
              "      <td>1.91</td>\n",
              "      <td>2.06</td>\n",
              "      <td>2.01</td>\n",
              "      <td>1.99</td>\n",
              "      <td>1.89</td>\n",
              "    </tr>\n",
              "    <tr>\n",
              "      <th>379</th>\n",
              "      <td>E0</td>\n",
              "      <td>23/05/2021</td>\n",
              "      <td>16:00</td>\n",
              "      <td>Wolves</td>\n",
              "      <td>Man United</td>\n",
              "      <td>1</td>\n",
              "      <td>2</td>\n",
              "      <td>A</td>\n",
              "      <td>1</td>\n",
              "      <td>2</td>\n",
              "      <td>...</td>\n",
              "      <td>1.62</td>\n",
              "      <td>-0.25</td>\n",
              "      <td>2.04</td>\n",
              "      <td>1.86</td>\n",
              "      <td>2.10</td>\n",
              "      <td>1.84</td>\n",
              "      <td>2.10</td>\n",
              "      <td>1.94</td>\n",
              "      <td>2.00</td>\n",
              "      <td>1.88</td>\n",
              "    </tr>\n",
              "  </tbody>\n",
              "</table>\n",
              "<p>380 rows × 106 columns</p>\n",
              "</div>\n",
              "      <button class=\"colab-df-convert\" onclick=\"convertToInteractive('df-5518a7a1-57d1-4cd8-aa3f-9c54efca7cbe')\"\n",
              "              title=\"Convert this dataframe to an interactive table.\"\n",
              "              style=\"display:none;\">\n",
              "        \n",
              "  <svg xmlns=\"http://www.w3.org/2000/svg\" height=\"24px\"viewBox=\"0 0 24 24\"\n",
              "       width=\"24px\">\n",
              "    <path d=\"M0 0h24v24H0V0z\" fill=\"none\"/>\n",
              "    <path d=\"M18.56 5.44l.94 2.06.94-2.06 2.06-.94-2.06-.94-.94-2.06-.94 2.06-2.06.94zm-11 1L8.5 8.5l.94-2.06 2.06-.94-2.06-.94L8.5 2.5l-.94 2.06-2.06.94zm10 10l.94 2.06.94-2.06 2.06-.94-2.06-.94-.94-2.06-.94 2.06-2.06.94z\"/><path d=\"M17.41 7.96l-1.37-1.37c-.4-.4-.92-.59-1.43-.59-.52 0-1.04.2-1.43.59L10.3 9.45l-7.72 7.72c-.78.78-.78 2.05 0 2.83L4 21.41c.39.39.9.59 1.41.59.51 0 1.02-.2 1.41-.59l7.78-7.78 2.81-2.81c.8-.78.8-2.07 0-2.86zM5.41 20L4 18.59l7.72-7.72 1.47 1.35L5.41 20z\"/>\n",
              "  </svg>\n",
              "      </button>\n",
              "      \n",
              "  <style>\n",
              "    .colab-df-container {\n",
              "      display:flex;\n",
              "      flex-wrap:wrap;\n",
              "      gap: 12px;\n",
              "    }\n",
              "\n",
              "    .colab-df-convert {\n",
              "      background-color: #E8F0FE;\n",
              "      border: none;\n",
              "      border-radius: 50%;\n",
              "      cursor: pointer;\n",
              "      display: none;\n",
              "      fill: #1967D2;\n",
              "      height: 32px;\n",
              "      padding: 0 0 0 0;\n",
              "      width: 32px;\n",
              "    }\n",
              "\n",
              "    .colab-df-convert:hover {\n",
              "      background-color: #E2EBFA;\n",
              "      box-shadow: 0px 1px 2px rgba(60, 64, 67, 0.3), 0px 1px 3px 1px rgba(60, 64, 67, 0.15);\n",
              "      fill: #174EA6;\n",
              "    }\n",
              "\n",
              "    [theme=dark] .colab-df-convert {\n",
              "      background-color: #3B4455;\n",
              "      fill: #D2E3FC;\n",
              "    }\n",
              "\n",
              "    [theme=dark] .colab-df-convert:hover {\n",
              "      background-color: #434B5C;\n",
              "      box-shadow: 0px 1px 3px 1px rgba(0, 0, 0, 0.15);\n",
              "      filter: drop-shadow(0px 1px 2px rgba(0, 0, 0, 0.3));\n",
              "      fill: #FFFFFF;\n",
              "    }\n",
              "  </style>\n",
              "\n",
              "      <script>\n",
              "        const buttonEl =\n",
              "          document.querySelector('#df-5518a7a1-57d1-4cd8-aa3f-9c54efca7cbe button.colab-df-convert');\n",
              "        buttonEl.style.display =\n",
              "          google.colab.kernel.accessAllowed ? 'block' : 'none';\n",
              "\n",
              "        async function convertToInteractive(key) {\n",
              "          const element = document.querySelector('#df-5518a7a1-57d1-4cd8-aa3f-9c54efca7cbe');\n",
              "          const dataTable =\n",
              "            await google.colab.kernel.invokeFunction('convertToInteractive',\n",
              "                                                     [key], {});\n",
              "          if (!dataTable) return;\n",
              "\n",
              "          const docLinkHtml = 'Like what you see? Visit the ' +\n",
              "            '<a target=\"_blank\" href=https://colab.research.google.com/notebooks/data_table.ipynb>data table notebook</a>'\n",
              "            + ' to learn more about interactive tables.';\n",
              "          element.innerHTML = '';\n",
              "          dataTable['output_type'] = 'display_data';\n",
              "          await google.colab.output.renderOutput(dataTable, element);\n",
              "          const docLink = document.createElement('div');\n",
              "          docLink.innerHTML = docLinkHtml;\n",
              "          element.appendChild(docLink);\n",
              "        }\n",
              "      </script>\n",
              "    </div>\n",
              "  </div>\n",
              "  "
            ]
          },
          "metadata": {},
          "execution_count": 4
        }
      ]
    },
    {
      "cell_type": "code",
      "source": [
        "import pandas as pd \n",
        "df.shape"
      ],
      "metadata": {
        "colab": {
          "base_uri": "https://localhost:8080/"
        },
        "id": "9HhX8jSXFJpC",
        "outputId": "fe800dc8-0863-4931-8706-aad7845bf0fd"
      },
      "execution_count": null,
      "outputs": [
        {
          "output_type": "execute_result",
          "data": {
            "text/plain": [
              "(380, 106)"
            ]
          },
          "metadata": {},
          "execution_count": 5
        }
      ]
    },
    {
      "cell_type": "markdown",
      "source": [
        "1) Complete Case Analysis(CCA):-"
      ],
      "metadata": {
        "id": "Tiz1bAXVGFia"
      }
    },
    {
      "cell_type": "code",
      "source": [
        "# Step 01) Finding the columns that have Null Values(Missing Data): We are using a for loop for all the columns present in dataset with average null values greater than 0\n",
        "na_variables = [ var for var in df.columns if df[var].isnull().mean() > 0 ]\n",
        "na_variables"
      ],
      "metadata": {
        "colab": {
          "base_uri": "https://localhost:8080/"
        },
        "id": "-eS7mJBvFMz0",
        "outputId": "b242557a-02c9-4718-fb09-f751ffb66272"
      },
      "execution_count": null,
      "outputs": [
        {
          "output_type": "execute_result",
          "data": {
            "text/plain": [
              "[]"
            ]
          },
          "metadata": {},
          "execution_count": 6
        }
      ]
    },
    {
      "cell_type": "code",
      "source": [
        "\n",
        "data_na = df[na_variables].isnull().mean()\n",
        "data_na\n"
      ],
      "metadata": {
        "colab": {
          "base_uri": "https://localhost:8080/"
        },
        "id": "bbtOcIfvFSg_",
        "outputId": "c8a1da9e-2a84-44ba-af0a-b06698e18bc3"
      },
      "execution_count": null,
      "outputs": [
        {
          "output_type": "execute_result",
          "data": {
            "text/plain": [
              "Series([], dtype: float64)"
            ]
          },
          "metadata": {},
          "execution_count": 7
        }
      ]
    },
    {
      "cell_type": "code",
      "source": [
        "# Step 02) Implementing the CCA techniques to remove Missing Data\n",
        "data_cca = df.dropna(axis=0)\n",
        "df.shape,data_cca.shape"
      ],
      "metadata": {
        "colab": {
          "base_uri": "https://localhost:8080/"
        },
        "id": "3OFvRgboFbML",
        "outputId": "6cb88667-7d94-493b-bcf9-80f5c78a5e5b"
      },
      "execution_count": null,
      "outputs": [
        {
          "output_type": "execute_result",
          "data": {
            "text/plain": [
              "((380, 106), (380, 106))"
            ]
          },
          "metadata": {},
          "execution_count": 8
        }
      ]
    },
    {
      "cell_type": "markdown",
      "source": [
        "2) Arbitrary Value Imputation:-"
      ],
      "metadata": {
        "id": "DWCxQzfoGLNH"
      }
    },
    {
      "cell_type": "code",
      "source": [
        "#Using Arbitary Imputation technique, we will impute missing Edu with \"Missing\"  {You can use any other value also}\n",
        "arb_impute = df['FTHG'].fillna('Missing')\n",
        "arb_impute.unique()"
      ],
      "metadata": {
        "colab": {
          "base_uri": "https://localhost:8080/"
        },
        "id": "bunyk20DFce5",
        "outputId": "a2aeb384-551e-48e3-b1f8-aab21a28c411"
      },
      "execution_count": null,
      "outputs": [
        {
          "output_type": "execute_result",
          "data": {
            "text/plain": [
              "array([0, 1, 4, 5, 2, 3, 7, 6, 9])"
            ]
          },
          "metadata": {},
          "execution_count": 11
        }
      ]
    },
    {
      "cell_type": "code",
      "source": [
        "missing_data=df.isnull().mean()\n",
        "missing_data"
      ],
      "metadata": {
        "colab": {
          "base_uri": "https://localhost:8080/"
        },
        "id": "eW8PjGuAFn6G",
        "outputId": "c8bda25f-b5bc-4e2f-bfc3-fd56bfde49b7"
      },
      "execution_count": null,
      "outputs": [
        {
          "output_type": "execute_result",
          "data": {
            "text/plain": [
              "Div         0.0\n",
              "Date        0.0\n",
              "Time        0.0\n",
              "HomeTeam    0.0\n",
              "AwayTeam    0.0\n",
              "           ... \n",
              "PCAHA       0.0\n",
              "MaxCAHH     0.0\n",
              "MaxCAHA     0.0\n",
              "AvgCAHH     0.0\n",
              "AvgCAHA     0.0\n",
              "Length: 106, dtype: float64"
            ]
          },
          "metadata": {},
          "execution_count": 12
        }
      ]
    },
    {
      "cell_type": "code",
      "source": [
        " df['FTHG'].unique()"
      ],
      "metadata": {
        "colab": {
          "base_uri": "https://localhost:8080/"
        },
        "id": "rfkijjl-Fwa7",
        "outputId": "234e6236-e197-443a-fb9a-1f7fa854066b"
      },
      "execution_count": null,
      "outputs": [
        {
          "output_type": "execute_result",
          "data": {
            "text/plain": [
              "array([0, 1, 4, 5, 2, 3, 7, 6, 9])"
            ]
          },
          "metadata": {},
          "execution_count": 13
        }
      ]
    },
    {
      "cell_type": "markdown",
      "source": [
        "3) Frequent Category Imputation:"
      ],
      "metadata": {
        "id": "ng7aiA5TGRuZ"
      }
    },
    {
      "cell_type": "code",
      "source": [
        "#Step 01) Finding the count of unique values in Edu\n",
        "df['FTHG'].groupby(df['FTHG']).count()"
      ],
      "metadata": {
        "colab": {
          "base_uri": "https://localhost:8080/"
        },
        "id": "LG8oWy5kF082",
        "outputId": "ae18e185-d138-4abc-d733-60de6e716246"
      },
      "execution_count": null,
      "outputs": [
        {
          "output_type": "execute_result",
          "data": {
            "text/plain": [
              "FTHG\n",
              "0    111\n",
              "1    130\n",
              "2     73\n",
              "3     42\n",
              "4     15\n",
              "5      6\n",
              "6      1\n",
              "7      1\n",
              "9      1\n",
              "Name: FTHG, dtype: int64"
            ]
          },
          "metadata": {},
          "execution_count": 14
        }
      ]
    },
    {
      "cell_type": "code",
      "source": [
        "\n",
        "#Step 02) Finding the mode: 1 has higgest frequency. We can also do it by checking the mode\n",
        "df['FTHG'].mode()"
      ],
      "metadata": {
        "colab": {
          "base_uri": "https://localhost:8080/"
        },
        "id": "S3SkRc6uF9rT",
        "outputId": "3758770a-e57c-424e-bb8f-ac091f346b6e"
      },
      "execution_count": null,
      "outputs": [
        {
          "output_type": "execute_result",
          "data": {
            "text/plain": [
              "0    1\n",
              "Name: FTHG, dtype: int64"
            ]
          },
          "metadata": {},
          "execution_count": 15
        }
      ]
    },
    {
      "cell_type": "code",
      "source": [
        "#Step 03) Using Frequent Category Imputer.\n",
        "frq_impute =df['FTHG'].fillna('1')\n",
        "frq_impute.unique()"
      ],
      "metadata": {
        "colab": {
          "base_uri": "https://localhost:8080/"
        },
        "id": "127ID6edGBYl",
        "outputId": "d76ac7ee-a5b9-4ddf-bd2a-c211c1b3cc47"
      },
      "execution_count": null,
      "outputs": [
        {
          "output_type": "execute_result",
          "data": {
            "text/plain": [
              "array([0, 1, 4, 5, 2, 3, 7, 6, 9])"
            ]
          },
          "metadata": {},
          "execution_count": 17
        }
      ]
    }
  ]
}